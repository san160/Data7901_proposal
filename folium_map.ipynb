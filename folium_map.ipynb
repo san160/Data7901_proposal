{
 "cells": [
  {
   "cell_type": "code",
   "execution_count": 1,
   "id": "3b53ff1b",
   "metadata": {},
   "outputs": [],
   "source": [
    "import pandas as pd\n",
    "import matplotlib.pyplot as plt\n",
    "import folium"
   ]
  },
  {
   "cell_type": "code",
   "execution_count": 2,
   "id": "2b3d397d",
   "metadata": {},
   "outputs": [],
   "source": [
    "df = pd.read_csv('data_after_wrangle.csv')"
   ]
  },
  {
   "cell_type": "code",
   "execution_count": 3,
   "id": "1880de34",
   "metadata": {},
   "outputs": [
    {
     "data": {
      "text/plain": [
       "array(['CCSFS SLC 40', 'VAFB SLC 4E', 'KSC LC 39A'], dtype=object)"
      ]
     },
     "execution_count": 3,
     "metadata": {},
     "output_type": "execute_result"
    }
   ],
   "source": [
    "groupby_launchsite = df.groupby('LaunchSite')\n",
    "df['LaunchSite'].unique()"
   ]
  },
  {
   "cell_type": "code",
   "execution_count": 4,
   "id": "703565e7",
   "metadata": {},
   "outputs": [],
   "source": [
    "cc40 = groupby_launchsite.get_group('CCSFS SLC 40')\n",
    "va4e = groupby_launchsite.get_group('VAFB SLC 4E')\n",
    "k39a = groupby_launchsite.get_group('KSC LC 39A')"
   ]
  },
  {
   "cell_type": "code",
   "execution_count": 5,
   "id": "002d9868",
   "metadata": {},
   "outputs": [
    {
     "data": {
      "text/html": [
       "<div>\n",
       "<style scoped>\n",
       "    .dataframe tbody tr th:only-of-type {\n",
       "        vertical-align: middle;\n",
       "    }\n",
       "\n",
       "    .dataframe tbody tr th {\n",
       "        vertical-align: top;\n",
       "    }\n",
       "\n",
       "    .dataframe thead th {\n",
       "        text-align: right;\n",
       "    }\n",
       "</style>\n",
       "<table border=\"1\" class=\"dataframe\">\n",
       "  <thead>\n",
       "    <tr style=\"text-align: right;\">\n",
       "      <th></th>\n",
       "      <th>LaunchSite</th>\n",
       "      <th>Latitude</th>\n",
       "      <th>Longitude</th>\n",
       "    </tr>\n",
       "  </thead>\n",
       "  <tbody>\n",
       "    <tr>\n",
       "      <th>0</th>\n",
       "      <td>CCSFS SLC 40</td>\n",
       "      <td>[28.5618571]</td>\n",
       "      <td>[-80.577366]</td>\n",
       "    </tr>\n",
       "    <tr>\n",
       "      <th>1</th>\n",
       "      <td>VAFB SLC 4E</td>\n",
       "      <td>[34.632093]</td>\n",
       "      <td>[-120.610829]</td>\n",
       "    </tr>\n",
       "    <tr>\n",
       "      <th>2</th>\n",
       "      <td>KSC LC 39A</td>\n",
       "      <td>[28.6080585]</td>\n",
       "      <td>[-80.6039558]</td>\n",
       "    </tr>\n",
       "  </tbody>\n",
       "</table>\n",
       "</div>"
      ],
      "text/plain": [
       "     LaunchSite      Latitude      Longitude\n",
       "0  CCSFS SLC 40  [28.5618571]   [-80.577366]\n",
       "1   VAFB SLC 4E   [34.632093]  [-120.610829]\n",
       "2    KSC LC 39A  [28.6080585]  [-80.6039558]"
      ]
     },
     "execution_count": 5,
     "metadata": {},
     "output_type": "execute_result"
    }
   ],
   "source": [
    "coor_df = pd.DataFrame({'LaunchSite':['CCSFS SLC 40', 'VAFB SLC 4E', 'KSC LC 39A'], \n",
    "                       'Latitude':[cc40['Latitude'].unique(), va4e['Latitude'].unique(), k39a['Latitude'].unique()],\n",
    "                       'Longitude':[cc40['Longitude'].unique(), va4e['Longitude'].unique(), k39a['Longitude'].unique()]})\n",
    "coor_df"
   ]
  },
  {
   "cell_type": "code",
   "execution_count": 6,
   "id": "fa5db855",
   "metadata": {},
   "outputs": [
    {
     "data": {
      "text/html": [
       "<div style=\"width:100%;\"><div style=\"position:relative;width:100%;height:0;padding-bottom:60%;\"><span style=\"color:#565656\">Make this Notebook Trusted to load map: File -> Trust Notebook</span><iframe srcdoc=\"&lt;!DOCTYPE html&gt;\n",
       "&lt;head&gt;    \n",
       "    &lt;meta http-equiv=&quot;content-type&quot; content=&quot;text/html; charset=UTF-8&quot; /&gt;\n",
       "    \n",
       "        &lt;script&gt;\n",
       "            L_NO_TOUCH = false;\n",
       "            L_DISABLE_3D = false;\n",
       "        &lt;/script&gt;\n",
       "    \n",
       "    &lt;style&gt;html, body {width: 100%;height: 100%;margin: 0;padding: 0;}&lt;/style&gt;\n",
       "    &lt;style&gt;#map {position:absolute;top:0;bottom:0;right:0;left:0;}&lt;/style&gt;\n",
       "    &lt;script src=&quot;https://cdn.jsdelivr.net/npm/leaflet@1.6.0/dist/leaflet.js&quot;&gt;&lt;/script&gt;\n",
       "    &lt;script src=&quot;https://code.jquery.com/jquery-1.12.4.min.js&quot;&gt;&lt;/script&gt;\n",
       "    &lt;script src=&quot;https://maxcdn.bootstrapcdn.com/bootstrap/3.2.0/js/bootstrap.min.js&quot;&gt;&lt;/script&gt;\n",
       "    &lt;script src=&quot;https://cdnjs.cloudflare.com/ajax/libs/Leaflet.awesome-markers/2.0.2/leaflet.awesome-markers.js&quot;&gt;&lt;/script&gt;\n",
       "    &lt;link rel=&quot;stylesheet&quot; href=&quot;https://cdn.jsdelivr.net/npm/leaflet@1.6.0/dist/leaflet.css&quot;/&gt;\n",
       "    &lt;link rel=&quot;stylesheet&quot; href=&quot;https://maxcdn.bootstrapcdn.com/bootstrap/3.2.0/css/bootstrap.min.css&quot;/&gt;\n",
       "    &lt;link rel=&quot;stylesheet&quot; href=&quot;https://maxcdn.bootstrapcdn.com/bootstrap/3.2.0/css/bootstrap-theme.min.css&quot;/&gt;\n",
       "    &lt;link rel=&quot;stylesheet&quot; href=&quot;https://maxcdn.bootstrapcdn.com/font-awesome/4.6.3/css/font-awesome.min.css&quot;/&gt;\n",
       "    &lt;link rel=&quot;stylesheet&quot; href=&quot;https://cdnjs.cloudflare.com/ajax/libs/Leaflet.awesome-markers/2.0.2/leaflet.awesome-markers.css&quot;/&gt;\n",
       "    &lt;link rel=&quot;stylesheet&quot; href=&quot;https://cdn.jsdelivr.net/gh/python-visualization/folium/folium/templates/leaflet.awesome.rotate.min.css&quot;/&gt;\n",
       "    \n",
       "            &lt;meta name=&quot;viewport&quot; content=&quot;width=device-width,\n",
       "                initial-scale=1.0, maximum-scale=1.0, user-scalable=no&quot; /&gt;\n",
       "            &lt;style&gt;\n",
       "                #map_066b8ca7418f26e7fd8f4ed3dd4da026 {\n",
       "                    position: relative;\n",
       "                    width: 100.0%;\n",
       "                    height: 100.0%;\n",
       "                    left: 0.0%;\n",
       "                    top: 0.0%;\n",
       "                }\n",
       "            &lt;/style&gt;\n",
       "        \n",
       "&lt;/head&gt;\n",
       "&lt;body&gt;    \n",
       "    \n",
       "            &lt;div class=&quot;folium-map&quot; id=&quot;map_066b8ca7418f26e7fd8f4ed3dd4da026&quot; &gt;&lt;/div&gt;\n",
       "        \n",
       "&lt;/body&gt;\n",
       "&lt;script&gt;    \n",
       "    \n",
       "            var map_066b8ca7418f26e7fd8f4ed3dd4da026 = L.map(\n",
       "                &quot;map_066b8ca7418f26e7fd8f4ed3dd4da026&quot;,\n",
       "                {\n",
       "                    center: [0, 0],\n",
       "                    crs: L.CRS.EPSG3857,\n",
       "                    zoom: 1,\n",
       "                    zoomControl: true,\n",
       "                    preferCanvas: false,\n",
       "                }\n",
       "            );\n",
       "\n",
       "            \n",
       "\n",
       "        \n",
       "    \n",
       "            var tile_layer_045fc946448bd43e5fd4111b206b9916 = L.tileLayer(\n",
       "                &quot;https://{s}.tile.openstreetmap.org/{z}/{x}/{y}.png&quot;,\n",
       "                {&quot;attribution&quot;: &quot;Data by \\u0026copy; \\u003ca href=\\&quot;http://openstreetmap.org\\&quot;\\u003eOpenStreetMap\\u003c/a\\u003e, under \\u003ca href=\\&quot;http://www.openstreetmap.org/copyright\\&quot;\\u003eODbL\\u003c/a\\u003e.&quot;, &quot;detectRetina&quot;: false, &quot;maxNativeZoom&quot;: 18, &quot;maxZoom&quot;: 18, &quot;minZoom&quot;: 0, &quot;noWrap&quot;: false, &quot;opacity&quot;: 1, &quot;subdomains&quot;: &quot;abc&quot;, &quot;tms&quot;: false}\n",
       "            ).addTo(map_066b8ca7418f26e7fd8f4ed3dd4da026);\n",
       "        \n",
       "    \n",
       "            var marker_65be33c000b92f2f459472d72a623a32 = L.marker(\n",
       "                [28.0, -80.0],\n",
       "                {}\n",
       "            ).addTo(map_066b8ca7418f26e7fd8f4ed3dd4da026);\n",
       "        \n",
       "    \n",
       "            var icon_8c81508f998018c0a05c1468f5e0075e = L.AwesomeMarkers.icon(\n",
       "                {&quot;extraClasses&quot;: &quot;fa-rotate-0&quot;, &quot;icon&quot;: &quot;fa-regular&quot;, &quot;iconColor&quot;: &quot;white&quot;, &quot;markerColor&quot;: &quot;blue&quot;, &quot;prefix&quot;: &quot;glyphicon&quot;}\n",
       "            );\n",
       "            marker_65be33c000b92f2f459472d72a623a32.setIcon(icon_8c81508f998018c0a05c1468f5e0075e);\n",
       "        \n",
       "    \n",
       "        var popup_e14b110fecff675352ca6214e988da6f = L.popup({&quot;maxWidth&quot;: &quot;100%&quot;});\n",
       "\n",
       "        \n",
       "            var html_9abf0ac8d6b2a6563dab637265480836 = $(`&lt;div id=&quot;html_9abf0ac8d6b2a6563dab637265480836&quot; style=&quot;width: 100.0%; height: 100.0%;&quot;&gt;CCSFS SLC 40&lt;/div&gt;`)[0];\n",
       "            popup_e14b110fecff675352ca6214e988da6f.setContent(html_9abf0ac8d6b2a6563dab637265480836);\n",
       "        \n",
       "\n",
       "        marker_65be33c000b92f2f459472d72a623a32.bindPopup(popup_e14b110fecff675352ca6214e988da6f)\n",
       "        ;\n",
       "\n",
       "        \n",
       "    \n",
       "    \n",
       "            var marker_3681203035ff625fadb7bd7ea1264846 = L.marker(\n",
       "                [34.0, -120.0],\n",
       "                {}\n",
       "            ).addTo(map_066b8ca7418f26e7fd8f4ed3dd4da026);\n",
       "        \n",
       "    \n",
       "            var icon_1b9a72c6eecbf82c03e145c2495483f8 = L.AwesomeMarkers.icon(\n",
       "                {&quot;extraClasses&quot;: &quot;fa-rotate-0&quot;, &quot;icon&quot;: &quot;fa-regular&quot;, &quot;iconColor&quot;: &quot;white&quot;, &quot;markerColor&quot;: &quot;blue&quot;, &quot;prefix&quot;: &quot;glyphicon&quot;}\n",
       "            );\n",
       "            marker_3681203035ff625fadb7bd7ea1264846.setIcon(icon_1b9a72c6eecbf82c03e145c2495483f8);\n",
       "        \n",
       "    \n",
       "        var popup_bd59a65f041d02e06aadb0a14d898a86 = L.popup({&quot;maxWidth&quot;: &quot;100%&quot;});\n",
       "\n",
       "        \n",
       "            var html_e642f8a1a998dc19546a04e38a2c4d36 = $(`&lt;div id=&quot;html_e642f8a1a998dc19546a04e38a2c4d36&quot; style=&quot;width: 100.0%; height: 100.0%;&quot;&gt;VAFB SLC 4E&lt;/div&gt;`)[0];\n",
       "            popup_bd59a65f041d02e06aadb0a14d898a86.setContent(html_e642f8a1a998dc19546a04e38a2c4d36);\n",
       "        \n",
       "\n",
       "        marker_3681203035ff625fadb7bd7ea1264846.bindPopup(popup_bd59a65f041d02e06aadb0a14d898a86)\n",
       "        ;\n",
       "\n",
       "        \n",
       "    \n",
       "    \n",
       "            var marker_55713d09cc22b7942be07161aa94c339 = L.marker(\n",
       "                [28.0, -80.0],\n",
       "                {}\n",
       "            ).addTo(map_066b8ca7418f26e7fd8f4ed3dd4da026);\n",
       "        \n",
       "    \n",
       "            var icon_520e00149345e744afd802aa069e855a = L.AwesomeMarkers.icon(\n",
       "                {&quot;extraClasses&quot;: &quot;fa-rotate-0&quot;, &quot;icon&quot;: &quot;fa-regular&quot;, &quot;iconColor&quot;: &quot;white&quot;, &quot;markerColor&quot;: &quot;blue&quot;, &quot;prefix&quot;: &quot;glyphicon&quot;}\n",
       "            );\n",
       "            marker_55713d09cc22b7942be07161aa94c339.setIcon(icon_520e00149345e744afd802aa069e855a);\n",
       "        \n",
       "    \n",
       "        var popup_af26c0321ef93ce036b5c96fdcdf1570 = L.popup({&quot;maxWidth&quot;: &quot;100%&quot;});\n",
       "\n",
       "        \n",
       "            var html_81001a26555bf412f8a803ef07632ba4 = $(`&lt;div id=&quot;html_81001a26555bf412f8a803ef07632ba4&quot; style=&quot;width: 100.0%; height: 100.0%;&quot;&gt;KSC LC 39A&lt;/div&gt;`)[0];\n",
       "            popup_af26c0321ef93ce036b5c96fdcdf1570.setContent(html_81001a26555bf412f8a803ef07632ba4);\n",
       "        \n",
       "\n",
       "        marker_55713d09cc22b7942be07161aa94c339.bindPopup(popup_af26c0321ef93ce036b5c96fdcdf1570)\n",
       "        ;\n",
       "\n",
       "        \n",
       "    \n",
       "&lt;/script&gt;\" style=\"position:absolute;width:100%;height:100%;left:0;top:0;border:none !important;\" allowfullscreen webkitallowfullscreen mozallowfullscreen></iframe></div></div>"
      ],
      "text/plain": [
       "<folium.folium.Map at 0x7f7c0b93c130>"
      ]
     },
     "execution_count": 6,
     "metadata": {},
     "output_type": "execute_result"
    }
   ],
   "source": [
    "launch_map = folium.Map(zoom_start=5, tiles='openstreetmap')\n",
    "for i in range(0, len(coor_df)):\n",
    "    folium.Marker(\n",
    "        location=[int(coor_df['Latitude'][i]), coor_df['Longitude'][i].astype(int)], \n",
    "        popup=f'{coor_df[\"LaunchSite\"][i]}',\n",
    "        icon=folium.Icon(icon='fa-regular')\n",
    "    ).add_to(launch_map)\n",
    "\n",
    "launch_map"
   ]
  },
  {
   "cell_type": "code",
   "execution_count": 7,
   "id": "d5beafdc",
   "metadata": {},
   "outputs": [
    {
     "data": {
      "text/plain": [
       "array([<AxesSubplot:ylabel='FlightNumber'>], dtype=object)"
      ]
     },
     "execution_count": 7,
     "metadata": {},
     "output_type": "execute_result"
    },
    {
     "data": {
      "image/png": "[encoded data removed]",
      "text/plain": [
       "<Figure size 792x432 with 1 Axes>"
      ]
     },
     "metadata": {},
     "output_type": "display_data"
    }
   ],
   "source": [
    "k39a.groupby('Success')['FlightNumber'].nunique().plot.pie(subplots=True, \n",
    "                                                                       figsize=(11, 6), autopct='%1.0f%%',\n",
    "                                                                      title='Mission success rate at KSC LC 39A')"
   ]
  },
  {
   "cell_type": "code",
   "execution_count": 8,
   "id": "ea3aabac",
   "metadata": {},
   "outputs": [
    {
     "data": {
      "text/plain": [
       "array([<AxesSubplot:ylabel='FlightNumber'>], dtype=object)"
      ]
     },
     "execution_count": 8,
     "metadata": {},
     "output_type": "execute_result"
    },
    {
     "data": {
      "image/png": "[encoded data removed]",
      "text/plain": [
       "<Figure size 792x432 with 1 Axes>"
      ]
     },
     "metadata": {},
     "output_type": "display_data"
    }
   ],
   "source": [
    "cc40.groupby('Success')['FlightNumber'].nunique().plot.pie(subplots=True, \n",
    "                                                                       figsize=(11, 6), autopct='%1.0f%%',\n",
    "                                                                      title='Mission success rate at CCSFS SLC 40')"
   ]
  },
  {
   "cell_type": "code",
   "execution_count": 9,
   "id": "68572f24",
   "metadata": {},
   "outputs": [
    {
     "data": {
      "text/plain": [
       "<BarContainer object of 2 artists>"
      ]
     },
     "execution_count": 9,
     "metadata": {},
     "output_type": "execute_result"
    },
    {
     "data": {
      "image/png": "[encoded data removed]",
      "text/plain": [
       "<Figure size 432x288 with 1 Axes>"
      ]
     },
     "metadata": {
      "needs_background": "light"
     },
     "output_type": "display_data"
    }
   ],
   "source": [
    "di = {'CCSFS SLC 40':'East Coast', 'VAFB SLC 4E':'West Coast', 'KSC LC 39A':'East Coast'}\n",
    "df.replace({\"LaunchSite\": di}, inplace=True)\n",
    "coasts = {}\n",
    "coast_types = df['LaunchSite'].unique()\n",
    "groupby_ls = df.groupby(['LaunchSite'])\n",
    "for coast in coast_types:\n",
    "    temp = groupby_ls.get_group(f'{coast}')\n",
    "    temp2 = temp['Success'].value_counts(normalize=True).mul(100).astype(float)\n",
    "    coasts[f'{coast}'] = temp2[1]\n",
    "coast = list(coasts.keys())          \n",
    "success_rate = list(coasts.values())  \n",
    "plt.title('Landing Success rate: West Coast VS. East Coast')\n",
    "plt.bar(coast, success_rate)"
   ]
  },
  {
   "cell_type": "code",
   "execution_count": null,
   "id": "6585d354",
   "metadata": {},
   "outputs": [],
   "source": []
  }
 ],
 "metadata": {
  "kernelspec": {
   "display_name": "Python 3 (ipykernel)",
   "language": "python",
   "name": "python3"
  },
  "language_info": {
   "codemirror_mode": {
    "name": "ipython",
    "version": 3
   },
   "file_extension": ".py",
   "mimetype": "text/x-python",
   "name": "python",
   "nbconvert_exporter": "python",
   "pygments_lexer": "ipython3",
   "version": "3.9.12"
  }
 },
 "nbformat": 4,
 "nbformat_minor": 5
}
